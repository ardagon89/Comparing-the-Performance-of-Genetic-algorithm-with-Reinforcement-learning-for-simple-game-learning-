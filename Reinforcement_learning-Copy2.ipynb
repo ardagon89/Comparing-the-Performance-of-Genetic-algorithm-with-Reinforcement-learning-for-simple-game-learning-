{
 "cells": [
  {
   "cell_type": "code",
   "execution_count": 83,
   "metadata": {
    "colab": {
     "base_uri": "https://localhost:8080/",
     "height": 581
    },
    "colab_type": "code",
    "id": "ZV0JaRWGl0U7",
    "outputId": "d4c110ab-79b6-4f35-ad4a-15225b38777e"
   },
   "outputs": [
    {
     "name": "stdout",
     "output_type": "stream",
     "text": [
      "Origin: 0 Goal: 999\n",
      "N: 1000 Iterations: 50000 Data: data1000-10000.csv\n",
      "Sparsity: 0.97 gamma: 0.65\n",
      "Blocked: [155]\n",
      "Path length: 3\n",
      "Shortest path: [0, 244, 542, 999]\n",
      "Time: 1068.1458992958069\n"
     ]
    },
    {
     "data": {
      "image/png": "[encoded data removed]",
      "text/plain": [
       "<Figure size 432x288 with 1 Axes>"
      ]
     },
     "metadata": {
      "needs_background": "light"
     },
     "output_type": "display_data"
    },
    {
     "name": "stdout",
     "output_type": "stream",
     "text": [
      "Correct path\n"
     ]
    }
   ],
   "source": [
    "#https://www.geeksforgeeks.org/ml-reinforcement-learning-algorithm-python-implementation-using-q-learning/\n",
    "import time\n",
    "import random\n",
    "import numpy as np \n",
    "import networkx as nx\n",
    "import matplotlib.pyplot as plt\n",
    "\n",
    "def generate_matrix(prob_sparsity, N):\n",
    "    matrix = np.zeros((N, N))\n",
    "    edges = []\n",
    "    for i in range(0, N):\n",
    "        for j in range(0, i):\n",
    "            if random.random() > prob_sparsity:\n",
    "                matrix[i][j] = 1\n",
    "                matrix[j][i] = matrix[i][j]\n",
    "                edges.append((i,j))\n",
    "    return matrix, edges\n",
    "\n",
    "def loadfromfile(filename='data.csv'):\n",
    "    mat = np.loadtxt(filename, delimiter=',')\n",
    "    N = mat.shape[0]\n",
    "    edges = []\n",
    "    for i in range(0, N):\n",
    "        for j in range(0, i):\n",
    "            if mat[i,j] == 1:\n",
    "                edges.append((i,j))\n",
    "    return mat, edges, N\n",
    "\n",
    "# Find which are the valid available actions for a given state\n",
    "def available_actions(curr_state, matrix_): \n",
    "    all_actions = matrix_[curr_state, :] \n",
    "    available_actions = np.where(all_actions >= 0)[1] \n",
    "    return available_actions \n",
    "\n",
    "# Choose one of the available valid actions for the current state at random\n",
    "def choose_random_action(valid_actions): \n",
    "    random_action = int(np.random.choice(valid_actions, 1)) \n",
    "    return random_action\n",
    "\n",
    "def update_Q_table(current_state, action, Q_table, adjacency_matrix, gamma): \n",
    "    max_reward_index = np.where(Q_table[action, :] == np.max(Q_table[action, :]))[1] \n",
    "    if max_reward_index.shape[0] > 1:\n",
    "        max_reward_index = int(np.random.choice(max_reward_index, size = 1)) \n",
    "    else:\n",
    "        max_reward_index = int(max_reward_index) \n",
    "    max_value = Q_table[action, max_reward_index] \n",
    "    Q_table[current_state, action] = adjacency_matrix[current_state, action] + gamma * max_value \n",
    "    if (np.max(Q_table) > 0): \n",
    "        return(np.sum(Q_table / np.max(Q_table)*100))\n",
    "    else: \n",
    "        return (0) \n",
    "\n",
    "def draw_network(edges):\n",
    "    G = nx.Graph() \n",
    "    G.add_edges_from(edges) \n",
    "    pos = nx.spring_layout(G) \n",
    "    nx.draw_networkx_nodes(G, pos) \n",
    "    nx.draw_networkx_edges(G, pos) \n",
    "    nx.draw_networkx_labels(G, pos) \n",
    "    plt.show() \n",
    "\n",
    "def build_adjacency_matrix(N, edges):\n",
    "    adjacency_matrix = np.matrix(np.ones(shape =(N, N))) \n",
    "    adjacency_matrix *= -1\n",
    "    \n",
    "    for coord in edges:  \n",
    "        if coord[1] == goal: \n",
    "            adjacency_matrix[coord] = 100\n",
    "        else: \n",
    "            adjacency_matrix[coord] = 0\n",
    "\n",
    "        if coord[0] == goal: \n",
    "            adjacency_matrix[coord[::-1]] = 100\n",
    "        else: \n",
    "            adjacency_matrix[coord[::-1]]= 0\n",
    "          # reverse of point \n",
    "    return adjacency_matrix\n",
    "\n",
    "def init_Q_table(N, adjacency_matrix, gamma, initial_state):\n",
    "    # initialize Q_table with zeros\n",
    "    Q = np.matrix(np.zeros([N, N])) \n",
    "    available_action = available_actions(initial_state, adjacency_matrix) \n",
    "    action = choose_random_action(available_action) \n",
    "\n",
    "    # update the Q_table according to the chosen action\n",
    "    update_Q_table(initial_state, action, Q, adjacency_matrix, gamma) \n",
    "    return Q\n",
    "\n",
    "def percolate_reward(Q_table, adjacency_matrix, gamma, rounds):\n",
    "    scores = [] \n",
    "    for i in range(rounds): \n",
    "        current_state = np.random.randint(0, int(Q_table.shape[0])) \n",
    "        available_action = available_actions(current_state, adjacency_matrix) \n",
    "        action = choose_random_action(available_action) \n",
    "        score = update_Q_table(current_state, action, Q_table, adjacency_matrix, gamma) \n",
    "        scores.append(score) \n",
    "    return scores\n",
    "\n",
    "def run(origin, goal, Q_table):\n",
    "    cur_st = origin\n",
    "    steps = [cur_st] \n",
    "\n",
    "    while cur_st != goal: \n",
    "        max_reward_idx = np.where(Q_table[cur_st, :] == np.max(Q_table[cur_st, :]))[1] \n",
    "        if max_reward_idx.shape[0] > 1: \n",
    "            max_reward_idx = int(np.random.choice(max_reward_idx, size = 1)) \n",
    "        else: \n",
    "            max_reward_idx = int(max_reward_idx) \n",
    "        steps.append(max_reward_idx) \n",
    "        cur_st = max_reward_idx \n",
    "    return steps\n",
    "\n",
    "def draw_scores(scores):\n",
    "    plt.plot(scores) \n",
    "    plt.xlabel('Iterations') \n",
    "    plt.ylabel('Reward') \n",
    "    plt.show() \n",
    "\n",
    "def check_path(mat, path):\n",
    "    result = 'Correct path'\n",
    "    for idx in range(len(path)-1):\n",
    "        if mat[path[idx]][path[idx+1]] != 1:\n",
    "            print(mat[path[idx]][path[idx+1]], \"wrong\")\n",
    "            result = None\n",
    "    if result:\n",
    "        print(result)\n",
    "\n",
    "def block(nodes, adjacency_matrix):\n",
    "    for node in nodes:\n",
    "        blocked = np.where(adjacency_matrix[:, node] == 0)  \n",
    "        adjacency_matrix[blocked[0], node] = -100\n",
    "\n",
    "if __name__ == \"__main__\":\n",
    "    t1 = time.time()\n",
    "    file_exists = True\n",
    "    rounds = 50000\n",
    "    if file_exists:\n",
    "        filename = 'data1000-10000.csv'\n",
    "        matrix, edges, N = loadfromfile(filename)\n",
    "        prob_sparsity = 0.97\n",
    "    else:\n",
    "        #The number of nodes in the network\n",
    "        N = 500\n",
    "        prob_sparsity = 0.97\n",
    "        matrix, edges = generate_matrix(prob_sparsity, N)\n",
    "        filename = 'data'+str(N)+'-'+str(rounds)+'a.csv'\n",
    "        np.savetxt(filename, matrix, delimiter=',')\n",
    "        \n",
    "    goal = N - 1\n",
    "    origin = 0\n",
    "    #draw_network(edges)\n",
    "    adjacency_matrix = build_adjacency_matrix(N, edges)\n",
    "    block_nodes = [155]\n",
    "    block(block_nodes, adjacency_matrix)\n",
    "    # learning rate     \n",
    "    gamma = 0.65\n",
    "    Q_table = init_Q_table(N, adjacency_matrix, gamma, origin)\n",
    "    scores = percolate_reward(Q_table, adjacency_matrix, gamma, rounds) \n",
    "    steps = run(origin, goal, Q_table)\n",
    "    print(\"Origin:\", origin, \"Goal:\", goal)\n",
    "    print(\"N:\", N, \"Iterations:\", rounds, \"Data:\", filename)\n",
    "    print(\"Sparsity:\", prob_sparsity, \"gamma:\", gamma)\n",
    "    print(\"Blocked:\", block_nodes)\n",
    "    print(\"Path length:\", len(steps)-1) \n",
    "    print(\"Shortest path:\", steps)\n",
    "    print(\"Time:\", time.time()-t1)\n",
    "    draw_scores(scores)\n",
    "    check_path(matrix, steps)"
   ]
  },
  {
   "cell_type": "code",
   "execution_count": 32,
   "metadata": {
    "colab": {
     "base_uri": "https://localhost:8080/",
     "height": 34
    },
    "colab_type": "code",
    "id": "Xc2vxU5H1-Dw",
    "outputId": "1017b90f-d6c7-4f0d-e138-ae17354df640"
   },
   "outputs": [
    {
     "data": {
      "text/plain": [
       "-1.0"
      ]
     },
     "execution_count": 32,
     "metadata": {},
     "output_type": "execute_result"
    }
   ],
   "source": [
    "adjacency_matrix[4,2]"
   ]
  },
  {
   "cell_type": "code",
   "execution_count": 0,
   "metadata": {
    "colab": {},
    "colab_type": "code",
    "id": "rsizAPqc7D-i"
   },
   "outputs": [],
   "source": []
  },
  {
   "cell_type": "code",
   "execution_count": 0,
   "metadata": {
    "colab": {},
    "colab_type": "code",
    "id": "Fb8qx-Ke9ZQk"
   },
   "outputs": [],
   "source": []
  }
 ],
 "metadata": {
  "colab": {
   "collapsed_sections": [],
   "name": "Reinforcement-learning.ipynb",
   "provenance": []
  },
  "kernelspec": {
   "display_name": "Python 3",
   "language": "python",
   "name": "python3"
  },
  "language_info": {
   "codemirror_mode": {
    "name": "ipython",
    "version": 3
   },
   "file_extension": ".py",
   "mimetype": "text/x-python",
   "name": "python",
   "nbconvert_exporter": "python",
   "pygments_lexer": "ipython3",
   "version": "3.7.3"
  }
 },
 "nbformat": 4,
 "nbformat_minor": 1
}
